{
 "cells": [
  {
   "cell_type": "code",
   "execution_count": 1,
   "metadata": {},
   "outputs": [],
   "source": [
    "import jax\n",
    "import jax.numpy as jnp\n",
    "import numpy as np\n",
    "from jax import grad,jit,vmap\n",
    "#import tensorflow as tf\n",
    "import matplotlib.pyplot as py\n",
    "#tf.config.experimental.set_visible_devices([], \"GPU\")"
   ]
  },
  {
   "cell_type": "markdown",
   "metadata": {},
   "source": [
    "### Data:"
   ]
  },
  {
   "cell_type": "code",
   "execution_count": 2,
   "metadata": {},
   "outputs": [],
   "source": [
    "image1= np.ones((28,28)) *0.5\n",
    "\n",
    "for i in range(2,22): \n",
    "  for j in range (2,22): \n",
    "    image1[i][j]=1"
   ]
  },
  {
   "cell_type": "code",
   "execution_count": 3,
   "metadata": {},
   "outputs": [
    {
     "data": {
      "text/plain": [
       "<matplotlib.image.AxesImage at 0x7f873d204730>"
      ]
     },
     "execution_count": 3,
     "metadata": {},
     "output_type": "execute_result"
    },
    {
     "data": {
      "image/png": "[encoded data removed]",
      "text/plain": [
       "<Figure size 432x288 with 1 Axes>"
      ]
     },
     "metadata": {
      "needs_background": "light"
     },
     "output_type": "display_data"
    }
   ],
   "source": [
    "py.imshow(image1)"
   ]
  },
  {
   "cell_type": "markdown",
   "metadata": {},
   "source": [
    "### Target"
   ]
  },
  {
   "cell_type": "code",
   "execution_count": 4,
   "metadata": {},
   "outputs": [],
   "source": [
    "target= np.zeros((28,28))\n",
    "for i in range(2,22): \n",
    "  for j in range (2,22): \n",
    "    target[i][j]=10"
   ]
  },
  {
   "cell_type": "code",
   "execution_count": 5,
   "metadata": {},
   "outputs": [
    {
     "data": {
      "text/plain": [
       "<matplotlib.image.AxesImage at 0x7f873d16bd00>"
      ]
     },
     "execution_count": 5,
     "metadata": {},
     "output_type": "execute_result"
    },
    {
     "data": {
      "image/png": "[encoded data removed]",
      "text/plain": [
       "<Figure size 432x288 with 1 Axes>"
      ]
     },
     "metadata": {
      "needs_background": "light"
     },
     "output_type": "display_data"
    }
   ],
   "source": [
    "py.imshow(target)"
   ]
  },
  {
   "cell_type": "markdown",
   "metadata": {},
   "source": [
    "### Reshape"
   ]
  },
  {
   "cell_type": "code",
   "execution_count": 6,
   "metadata": {},
   "outputs": [],
   "source": [
    "#This needs to be changed to store x,y, I will store the third diemsnion later. \n",
    "#each mask contains an x,y coordinate which is what the affine transformation works on.\n",
    "mask=np.zeros((784,2))\n",
    "i = 0\n",
    "for y in range(28):\n",
    "    for x in range(28): \n",
    "      mask[i][0]=y#-14\n",
    "      mask[i][1]=x#-14\n",
    "      #mask[i][2]=1\n",
    "      i+=1\n",
    "\n",
    "affine_matrix = np.array([[1,0],\n",
    "                [0,1]])\n",
    "\n",
    "\n",
    "#The transformation is performed on this mask, and then the sampling occurs on the actual 'feature map'\n",
    "#I believe this is what happens in Jaderberg et al.? "
   ]
  },
  {
   "cell_type": "code",
   "execution_count": 7,
   "metadata": {},
   "outputs": [],
   "source": [
    "modified_mask = np.dot (mask[2],affine_matrix.T)"
   ]
  },
  {
   "cell_type": "code",
   "execution_count": 15,
   "metadata": {},
   "outputs": [
    {
     "data": {
      "text/plain": [
       "array([0., 0.])"
      ]
     },
     "execution_count": 15,
     "metadata": {},
     "output_type": "execute_result"
    }
   ],
   "source": [
    "test=np.zeros((784,2)) \n"
   ]
  },
  {
   "cell_type": "code",
   "execution_count": null,
   "metadata": {},
   "outputs": [],
   "source": []
  },
  {
   "cell_type": "code",
   "execution_count": 26,
   "metadata": {},
   "outputs": [
    {
     "ename": "ValueError",
     "evalue": "cannot reshape array of size 784 into shape (784,2)",
     "output_type": "error",
     "traceback": [
      "\u001b[0;31m---------------------------------------------------------------------------\u001b[0m",
      "\u001b[0;31mValueError\u001b[0m                                Traceback (most recent call last)",
      "\u001b[0;32m<ipython-input-26-a40f9045dba1>\u001b[0m in \u001b[0;36m<module>\u001b[0;34m\u001b[0m\n\u001b[0;32m----> 1\u001b[0;31m \u001b[0mfeature\u001b[0m\u001b[0;34m=\u001b[0m\u001b[0mimage1\u001b[0m\u001b[0;34m.\u001b[0m\u001b[0mreshape\u001b[0m\u001b[0;34m(\u001b[0m\u001b[0;36m784\u001b[0m\u001b[0;34m,\u001b[0m\u001b[0;36m2\u001b[0m\u001b[0;34m)\u001b[0m\u001b[0;34m\u001b[0m\u001b[0;34m\u001b[0m\u001b[0m\n\u001b[0m\u001b[1;32m      2\u001b[0m \u001b[0mtarget\u001b[0m\u001b[0;34m=\u001b[0m\u001b[0mtarget\u001b[0m\u001b[0;34m.\u001b[0m\u001b[0mreshape\u001b[0m\u001b[0;34m(\u001b[0m\u001b[0;36m784\u001b[0m\u001b[0;34m,\u001b[0m\u001b[0;36m2\u001b[0m\u001b[0;34m)\u001b[0m\u001b[0;34m\u001b[0m\u001b[0;34m\u001b[0m\u001b[0m\n\u001b[1;32m      3\u001b[0m \u001b[0mkernel\u001b[0m \u001b[0;34m=\u001b[0m \u001b[0;36m10\u001b[0m\u001b[0;34m\u001b[0m\u001b[0;34m\u001b[0m\u001b[0m\n",
      "\u001b[0;31mValueError\u001b[0m: cannot reshape array of size 784 into shape (784,2)"
     ]
    }
   ],
   "source": [
    "feature=image1.reshape(784,2) \n",
    "target=target.reshape(784,2)\n",
    "kernel = 10"
   ]
  },
  {
   "cell_type": "markdown",
   "metadata": {},
   "source": [
    "### Network \n",
    "Sampling has to be something like\n",
    "\n",
    "$ V^C_i = \\sum^H_n\\sum^W_m U^C_{nm} max (0,1-|x^s_i-m|)max(0,1-|y^s_i-n|)$\n",
    "\n",
    "which has a very basic form of: \n",
    "$V = U \\tau F(x,y) $ with $U$ being the feature map\n",
    "\n",
    "$F(x,y)$ is the sampling, $U$ is the original feature map, and $\\tau$ is the affine matrix"
   ]
  },
  {
   "cell_type": "markdown",
   "metadata": {},
   "source": [
    "### THoughts on implementation: \n",
    "From the equation, I feel that what Jaderberg is getting at is basically a algorithm in which a feature map $U_{nm}^C$ is manipulated by affine matrix $\\tau$ or $k$....(ie: $V = Uk$) \n",
    "\n",
    "The entire algorithm is: $V=Uk(x-m;\\phi)(y-n;\\phi)$, which basically states, that the transformed image is a function of a feature map, tranformed by affine matrix k, only on the coordinates given by a sampling function parameterized by $\\phi$ \n",
    "\n",
    "In the code below, 'transformation_network' represents $UK(x-m;\\phi)(y-n;\\phi)$ \n",
    "the sampling network repreesents $V(x-m,y-n;\\phi)$ kind of . Like a sampling network that outputs whether or not those coordinates should be manipulated, via parameters $\\phi$\n",
    "\n",
    "\n",
    "In the code below for a given 28x28 image, there will be a matrix that stores all the feature map in the form of a [mn,dim] matrix. This matrix will undergo a affine transformation, with the resulting values being applied to the actual image, if the sampling network deems the actual pixel is worth applying to. "
   ]
  },
  {
   "cell_type": "code",
   "execution_count": 18,
   "metadata": {},
   "outputs": [],
   "source": [
    "#Create the coordinates variable. \n",
    "coordinates=np.zeros((784,2))\n",
    "i = 0\n",
    "for y in range(28):\n",
    "    for x in range(28): \n",
    "      mask[i][0]=y\n",
    "      mask[i][1]=x\n",
    "      i+=1\n"
   ]
  },
  {
   "cell_type": "code",
   "execution_count": 101,
   "metadata": {},
   "outputs": [],
   "source": [
    "#feature_map will store the actual color value of the image. This will be a [28,28] matrix. \n",
    "\n",
    "#affine_matrix is the actual transformation matrix. \n",
    "#coordinates is what I was calling a 'mask', and is a array of matrixes [784,2]. \n",
    "#I believe this will be constant. \n",
    "\n",
    "#The network decides if the pixel will have the affine trasnformation applied. \n",
    "def sampling_network(feature_map,parameters,bias):  #parameters will be 1,1  \n",
    "\n",
    "    #The feature map then enters a sampling network, based on pixel value. \n",
    "    layer1=jnp.dot(feature_map,parameters[0].T) + bias[0]  #(32,1) \n",
    "    layer1=jax.nn.relu(layer1) \n",
    "    layer2=jnp.dot(layer1,parameters[1].T)+bias[1]  #(1,32)\n",
    "    layer2=jax.nn.sigmoid(layer2) \n",
    "    return layer2 #This outputs for a single pixel and would have to VMAP to the entire image\n",
    "\n",
    "#This function takes the affine_matrix and transforms the 784,2 array of vectors. \n",
    "# in the code below I have used the sampling network here, but i am debating whether\n",
    "#or not to just apply this during the transfrmation stage.  \n",
    "#I realized that I will do this at the level of trasnformation as the sampling_network examines\n",
    "#the pre-transformation image. \n",
    "\n",
    "def transformation_network (affine_matrix,coordinates,feature_map,parameters,bias): \n",
    "    #This is basically saying \"perform the affine matrix, and apply it whether or not the sampling _networ\n",
    "    #says to do it. \"\n",
    "\n",
    "    output= jnp.dot(coordinates,affine_matrix.T) * sampling_network(feature_map[coordinates[0].astype(int)][coordinates[1].astype(int)],\n",
    "                                                                    parameters,bias)\n",
    "    return output #This should be a 784,2 output. \n",
    "\n",
    "def STN(affine_matrix,coordinates,feature_map,parameters,bias): \n",
    "    #First take the image and process it into the sampling_network. \n",
    "    #output will contain a 784,2 output, which has been trasnformed and can be applied \n",
    "    #to the actual image (feature_map) \n",
    "    output=transformation_network(affine_matrix,coordinates,feature_map,parameters,bias)\n",
    "    return output\n",
    "\n",
    "def complete_image(feature_map,transformation):\n",
    "    new_image=np.zeros((28,28))\n",
    "    feature_map=feature_map.flatten()\n",
    "    for i in range(784): \n",
    "        x=jnp.array(transformation[i][0],int)\n",
    "        y=jnp.array(transformation[i][1],int)\n",
    "        new_image[x][y] = feature_map[i]\n",
    "    return new_image \n",
    "\n",
    "\n",
    "def MSE_error(pixels_,target,parameters,bias): \n",
    "  pred = forward(pixels_,parameters,bias) \n",
    "  error = 0.5*(target-pred)**2 #sum over image\n",
    "  return error[0]\n",
    "\n",
    "gradient=grad(MSE_error, argnums=(2,3))\n",
    "\n",
    "def update_params(dparams,dbias,parameters,bias,lr=0.001): \n",
    "  for i in range(len(dparams)):\n",
    "    parameters[i]=parameters[i] - (lr*dparams[i])\n",
    "    bias[i] = bias[i] - (lr*dbias[i]) \n",
    "  return [parameters,bias]"
   ]
  },
  {
   "cell_type": "code",
   "execution_count": 102,
   "metadata": {},
   "outputs": [],
   "source": [
    "#parameters\n",
    "params=[]\n",
    "biases=[]\n",
    "params.append(np.random.randn(32,1))\n",
    "params.append(np.random.randn(1,32))\n",
    "biases.append(np.random.randn(32))\n",
    "biases.append(np.random.randn(1))\n",
    "\n",
    "#affine matrix: \n",
    "affine=jnp.array([[1,0],\n",
    "       [0,1]])"
   ]
  },
  {
   "cell_type": "code",
   "execution_count": 103,
   "metadata": {},
   "outputs": [
    {
     "name": "stderr",
     "output_type": "stream",
     "text": [
      "/home/paul/AIprojects/jupytertest/.venv/lib/python3.8/site-packages/jax/_src/lax/lax.py:6126: UserWarning: Explicitly requested dtype <class 'int'> requested in astype is not available, and will be truncated to dtype int32. To enable more dtypes, set the jax_enable_x64 configuration option or the JAX_ENABLE_X64 shell environment variable. See https://github.com/google/jax#current-gotchas for more.\n",
      "  warnings.warn(msg.format(dtype, fun_name , truncated_dtype))\n"
     ]
    },
    {
     "data": {
      "text/plain": [
       "DeviceArray([[0., 0.]], dtype=float32)"
      ]
     },
     "execution_count": 103,
     "metadata": {},
     "output_type": "execute_result"
    }
   ],
   "source": [
    "#another problem here is now to coordinate the coordinates with the image. \n",
    "jit(STN)(affine,coordinates[12],image1,params,biases) "
   ]
  },
  {
   "cell_type": "code",
   "execution_count": 84,
   "metadata": {},
   "outputs": [],
   "source": [
    "test=coordinates[2]"
   ]
  },
  {
   "cell_type": "code",
   "execution_count": 71,
   "metadata": {},
   "outputs": [
    {
     "data": {
      "text/plain": [
       "0.0"
      ]
     },
     "execution_count": 71,
     "metadata": {},
     "output_type": "execute_result"
    }
   ],
   "source": [
    "test[1]"
   ]
  },
  {
   "cell_type": "code",
   "execution_count": null,
   "metadata": {},
   "outputs": [],
   "source": []
  }
 ],
 "metadata": {
  "kernelspec": {
   "display_name": "Python 3",
   "language": "python",
   "name": "python3"
  },
  "language_info": {
   "codemirror_mode": {
    "name": "ipython",
    "version": 3
   },
   "file_extension": ".py",
   "mimetype": "text/x-python",
   "name": "python",
   "nbconvert_exporter": "python",
   "pygments_lexer": "ipython3",
   "version": "3.8.5"
  }
 },
 "nbformat": 4,
 "nbformat_minor": 4
}
