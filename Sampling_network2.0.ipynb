{
  "nbformat": 4,
  "nbformat_minor": 0,
  "metadata": {
    "kernelspec": {
      "display_name": "Python 3",
      "language": "python",
      "name": "python3"
    },
    "language_info": {
      "codemirror_mode": {
        "name": "ipython",
        "version": 3
      },
      "file_extension": ".py",
      "mimetype": "text/x-python",
      "name": "python",
      "nbconvert_exporter": "python",
      "pygments_lexer": "ipython3",
      "version": "3.8.5"
    },
    "colab": {
      "name": "Sampling_network2.0.ipynb",
      "provenance": []
    },
    "accelerator": "GPU"
  },
  "cells": [
    {
      "cell_type": "code",
      "metadata": {
        "id": "dfm31jqOePMf"
      },
      "source": [
        "import jax\n",
        "import jax.numpy as jnp\n",
        "import numpy as np\n",
        "from jax import grad,jit,vmap\n",
        "#import tensorflow as tf\n",
        "import matplotlib.pyplot as py\n",
        "#tf.config.experimental.set_visible_devices([], \"GPU\")"
      ],
      "execution_count": 44,
      "outputs": []
    },
    {
      "cell_type": "markdown",
      "metadata": {
        "id": "sLlL-oggePMg"
      },
      "source": [
        "### Data:"
      ]
    },
    {
      "cell_type": "code",
      "metadata": {
        "id": "tj6hgXBSePMg"
      },
      "source": [
        "image1= np.ones((28,28)) *0.5\n",
        "\n",
        "for i in range(2,22): \n",
        "  for j in range (2,22): \n",
        "    image1[i][j]=1"
      ],
      "execution_count": 3,
      "outputs": []
    },
    {
      "cell_type": "code",
      "metadata": {
        "id": "Az3H1K7kePMg",
        "outputId": "2f5d81e9-6df0-4aee-c3e2-946d0ae02ffc",
        "colab": {
          "base_uri": "https://localhost:8080/",
          "height": 547
        }
      },
      "source": [
        "py.imshow(image1)"
      ],
      "execution_count": 4,
      "outputs": [
        {
          "output_type": "execute_result",
          "data": {
            "text/plain": [
              "<matplotlib.image.AxesImage at 0x7fe2747555f8>"
            ]
          },
          "metadata": {
            "tags": []
          },
          "execution_count": 4
        },
        {
          "output_type": "display_data",
          "data": {
            "image/png": "[encoded data removed]",
            "text/plain": [
              "<Figure size 432x288 with 1 Axes>"
            ]
          },
          "metadata": {
            "tags": [],
            "needs_background": "light"
          }
        },
        {
          "output_type": "execute_result",
          "data": {
            "text/plain": [
              "<matplotlib.image.AxesImage at 0x7fe2747555f8>"
            ]
          },
          "metadata": {
            "tags": []
          },
          "execution_count": 4
        },
        {
          "output_type": "display_data",
          "data": {
            "image/png": "[encoded data removed]",
            "text/plain": [
              "<Figure size 432x288 with 1 Axes>"
            ]
          },
          "metadata": {
            "tags": [],
            "needs_background": "light"
          }
        }
      ]
    },
    {
      "cell_type": "markdown",
      "metadata": {
        "id": "KbeETxELePMh"
      },
      "source": [
        "### Target"
      ]
    },
    {
      "cell_type": "code",
      "metadata": {
        "id": "OYqwCh-BePMh"
      },
      "source": [
        "target= np.zeros((28,28))\n",
        "for i in range(2,22): \n",
        "  for j in range (2,22): \n",
        "    target[i][j]=10"
      ],
      "execution_count": 5,
      "outputs": []
    },
    {
      "cell_type": "code",
      "metadata": {
        "id": "2TyKAW0zePMh",
        "outputId": "c77227a9-3dd8-4eba-dab4-fed7051ae34d",
        "colab": {
          "base_uri": "https://localhost:8080/",
          "height": 547
        }
      },
      "source": [
        "py.imshow(target)"
      ],
      "execution_count": 6,
      "outputs": [
        {
          "output_type": "execute_result",
          "data": {
            "text/plain": [
              "<matplotlib.image.AxesImage at 0x7fe27422bcc0>"
            ]
          },
          "metadata": {
            "tags": []
          },
          "execution_count": 6
        },
        {
          "output_type": "display_data",
          "data": {
            "image/png": "[encoded data removed]",
            "text/plain": [
              "<Figure size 432x288 with 1 Axes>"
            ]
          },
          "metadata": {
            "tags": [],
            "needs_background": "light"
          }
        },
        {
          "output_type": "execute_result",
          "data": {
            "text/plain": [
              "<matplotlib.image.AxesImage at 0x7fe27422bcc0>"
            ]
          },
          "metadata": {
            "tags": []
          },
          "execution_count": 6
        },
        {
          "output_type": "display_data",
          "data": {
            "image/png": "[encoded data removed]",
            "text/plain": [
              "<Figure size 432x288 with 1 Axes>"
            ]
          },
          "metadata": {
            "tags": [],
            "needs_background": "light"
          }
        }
      ]
    },
    {
      "cell_type": "markdown",
      "metadata": {
        "id": "UzfYcmEEePMh"
      },
      "source": [
        "### Reshape"
      ]
    },
    {
      "cell_type": "code",
      "metadata": {
        "id": "AXZD4clRePMh"
      },
      "source": [
        "#This needs to be changed to store x,y, I will store the third diemsnion later. \n",
        "#each mask contains an x,y coordinate which is what the affine transformation works on.\n",
        "mask=np.zeros((784,2))\n",
        "i = 0\n",
        "for y in range(28):\n",
        "    for x in range(28): \n",
        "      mask[i][0]=y#-14\n",
        "      mask[i][1]=x#-14\n",
        "      #mask[i][2]=1\n",
        "      i+=1\n",
        "\n",
        "affine_matrix = np.array([[1,0],\n",
        "                [0,1]])\n",
        "\n",
        "\n",
        "#The transformation is performed on this mask, and then the sampling occurs on the actual 'feature map'\n",
        "#I believe this is what happens in Jaderberg et al.? "
      ],
      "execution_count": 7,
      "outputs": []
    },
    {
      "cell_type": "code",
      "metadata": {
        "id": "_PGQrkQzePMh"
      },
      "source": [
        "modified_mask = np.dot (mask[2],affine_matrix.T)"
      ],
      "execution_count": 8,
      "outputs": []
    },
    {
      "cell_type": "code",
      "metadata": {
        "id": "_xfiELPBePMh"
      },
      "source": [
        "test=np.zeros((784,2)) \n"
      ],
      "execution_count": 9,
      "outputs": []
    },
    {
      "cell_type": "code",
      "metadata": {
        "id": "1AlikJ1VePMk"
      },
      "source": [
        ""
      ],
      "execution_count": 9,
      "outputs": []
    },
    {
      "cell_type": "code",
      "metadata": {
        "id": "4i6Wa0MaePMk"
      },
      "source": [
        "#feature=image1.reshape(784,2) \n",
        "#target=target.reshape(784,2)\n",
        "#kernel = 10"
      ],
      "execution_count": 10,
      "outputs": []
    },
    {
      "cell_type": "markdown",
      "metadata": {
        "id": "Qdr5e6D-ePMk"
      },
      "source": [
        "### Network \n",
        "Sampling has to be something like\n",
        "\n",
        "$ V^C_i = \\sum^H_n\\sum^W_m U^C_{nm} max (0,1-|x^s_i-m|)max(0,1-|y^s_i-n|)$\n",
        "\n",
        "which has a very basic form of: \n",
        "$V = U \\tau F(x,y) $ with $U$ being the feature map\n",
        "\n",
        "$F(x,y)$ is the sampling, $U$ is the original feature map, and $\\tau$ is the affine matrix"
      ]
    },
    {
      "cell_type": "markdown",
      "metadata": {
        "id": "L4LeykpFePMk"
      },
      "source": [
        "### THoughts on implementation: \n",
        "From the equation, I feel that what Jaderberg is getting at is basically a algorithm in which a feature map $U_{nm}^C$ is manipulated by affine matrix $\\tau$ or $k$....(ie: $V = Uk$) \n",
        "\n",
        "The entire algorithm is: $V=Uk(x-m;\\phi)(y-n;\\phi)$, which basically states, that the transformed image is a function of a feature map, tranformed by affine matrix k, only on the coordinates given by a sampling function parameterized by $\\phi$ \n",
        "\n",
        "In the code below, 'transformation_network' represents $UK(x-m;\\phi)(y-n;\\phi)$ \n",
        "the sampling network repreesents $V(x-m,y-n;\\phi)$ kind of . Like a sampling network that outputs whether or not those coordinates should be manipulated, via parameters $\\phi$\n",
        "\n",
        "\n",
        "In the code below for a given 28x28 image, there will be a matrix that stores all the feature map in the form of a [mn,dim] matrix. This matrix will undergo a affine transformation, with the resulting values being applied to the actual image, if the sampling network deems the actual pixel is worth applying to. "
      ]
    },
    {
      "cell_type": "code",
      "metadata": {
        "id": "YsNwKEDUePMk"
      },
      "source": [
        "#Create the coordinates variable. \n",
        "coordinates=np.zeros((784,2))\n",
        "i = 0\n",
        "for y in range(28):\n",
        "    for x in range(28): \n",
        "      mask[i][0]=y\n",
        "      mask[i][1]=x\n",
        "      i+=1\n"
      ],
      "execution_count": 11,
      "outputs": []
    },
    {
      "cell_type": "code",
      "metadata": {
        "id": "1rKADrm8ePMk"
      },
      "source": [
        "#feature_map will store the actual color value of the image. This will be a [28,28] matrix. \n",
        "\n",
        "#affine_matrix is the actual transformation matrix. \n",
        "#coordinates is what I was calling a 'mask', and is a array of matrixes [784,2]. \n",
        "#I believe this will be constant. \n",
        "\n",
        "#The network decides if the pixel will have the affine trasnformation applied. \n",
        "def sampling_network(feature_map,parameters,bias):  #parameters will be 1,1  \n",
        "\n",
        "    #The feature map then enters a sampling network, based on pixel value. \n",
        "    layer1=jnp.dot(feature_map,parameters[0].T) + bias[0]  #(32,1) \n",
        "    layer1=jax.nn.relu(layer1) \n",
        "    layer2=jnp.dot(layer1,parameters[1].T)+bias[1]  #(1,32)\n",
        "    layer2=jax.nn.sigmoid(layer2) \n",
        "    print (layer2)\n",
        "    return layer2 #This outputs for a single pixel and would have to VMAP to the entire image\n",
        "\n",
        "#This function takes the affine_matrix and transforms the 784,2 array of vectors. \n",
        "# in the code below I have used the sampling network here, but i am debating whether\n",
        "#or not to just apply this during the transfrmation stage.  \n",
        "#I realized that I will do this at the level of trasnformation as the sampling_network examines\n",
        "#the pre-transformation image. \n",
        "\n",
        "def transformation_network (affine_matrix,coordinates,feature_map,parameters,bias): \n",
        "    #This is basically saying \"perform the affine matrix, and apply it whether or not the sampling _networ\n",
        "    #says to do it. \"\n",
        "\n",
        "    output= jnp.dot(coordinates,affine_matrix.T) * sampling_network(feature_map[coordinates[0].astype(int)][coordinates[1].astype(int)],\n",
        "                                                                    parameters,bias)\n",
        "    return output #This should be a 784,2 output. \n",
        "\n",
        "#The STN takes pixel by pixel here. This will need to be vectorized in order to generate a complete image and passed to anotehr network \n",
        "\n",
        "#This component is done at the end, when all the pixels are iterated through. I assume that this can be eventually vectorized. \n",
        "\n",
        "def STN(affine_matrix,coordinates,feature_map,parameters,bias): \n",
        "    #First take the image and process it into the sampling_network. \n",
        "    #output will contain a 784,2 output, which has been trasnformed and can be applied \n",
        "    #to the actual image (feature_map) \n",
        "    output=transformation_network(affine_matrix,coordinates,feature_map,parameters,bias)\n",
        "    return output[0]\n",
        "\n",
        "\n",
        "vmap_STN = vmap(STN,in_axes=(None,0,None,None,None))\n",
        "\n",
        "def complete_image(feature_map,transformation):\n",
        "    \n",
        "    new_image=np.zeros((28,28))\n",
        "    feature_map=feature_map.flatten()\n",
        "    \n",
        "    for i in range(len(transformation)): \n",
        "        x=transformation[i][0].astype(int)\n",
        "        y=transformation[i][1].astype(int)\n",
        "        new_image[x][y] = feature_map[i]\n",
        "        \n",
        "    return jnp.array(new_image)\n",
        "\n",
        "\n",
        "def forward(affine_matrix,coordinates,feature_map,parameters,bias): \n",
        "    new_coords=jit(vmap_STN)(affine,coordinates,image1,params,biases)\n",
        "    new_image=complete_image(image1,new_coords)\n",
        "    return new_image\n",
        "\n",
        "\n",
        "\n",
        "def MSE_error(feature_map,affine_matrix,coordinates,parameters,bias): \n",
        "  pred = forward(affine_matrix,coordinates,feature_map,parameters,bias)\n",
        "  error = jnp.sum((feature_map-pred))**2/784 #sum over image\n",
        "  return error\n",
        "\n",
        "gradient=grad(MSE_error, argnums=(1,3,4),allow_int=True)\n",
        "\n",
        "def update_params(dparams,dbias,parameters,bias,lr=0.001): \n",
        "  for i in range(len(dparams)):\n",
        "    parameters[i]=parameters[i] - (lr*dparams[i])\n",
        "    bias[i] = bias[i] - (lr*dbias[i]) \n",
        "  return [parameters,bias]"
      ],
      "execution_count": 109,
      "outputs": []
    },
    {
      "cell_type": "code",
      "metadata": {
        "id": "yDlNskhAePMk"
      },
      "source": [
        "#parameters\n",
        "params=[]\n",
        "biases=[]\n",
        "params.append(np.random.randn(32,1))\n",
        "params.append(np.random.randn(1,32))\n",
        "biases.append(np.random.randn(32))\n",
        "biases.append(np.random.randn(1))\n",
        "\n",
        "#affine matrix: \n",
        "affine=jnp.array([[1.0,0.0],\n",
        "       [0.0,1.0]])"
      ],
      "execution_count": 110,
      "outputs": []
    },
    {
      "cell_type": "code",
      "metadata": {
        "id": "88bxjFWeA6gD",
        "outputId": "56516d4c-6a2f-45d5-d1de-7d7f6e2faef0",
        "colab": {
          "base_uri": "https://localhost:8080/"
        }
      },
      "source": [
        "errors= MSE_error(image1,affine,coordinates,params,biases)\n"
      ],
      "execution_count": 118,
      "outputs": [
        {
          "output_type": "stream",
          "text": [
            "/usr/local/lib/python3.6/dist-packages/jax/_src/lax/lax.py:6081: UserWarning: Explicitly requested dtype <class 'int'> requested in astype is not available, and will be truncated to dtype int32. To enable more dtypes, set the jax_enable_x64 configuration option or the JAX_ENABLE_X64 shell environment variable. See https://github.com/google/jax#current-gotchas for more.\n",
            "  warnings.warn(msg.format(dtype, fun_name , truncated_dtype))\n"
          ],
          "name": "stderr"
        }
      ]
    },
    {
      "cell_type": "code",
      "metadata": {
        "id": "A0gHIuVNGSDH",
        "outputId": "3e96ec9c-7807-4a31-a3a2-813d6edcb6cc",
        "colab": {
          "base_uri": "https://localhost:8080/"
        }
      },
      "source": [
        "daffine,dparams,dbias=gradient(image1,affine,coordinates,params,biases)"
      ],
      "execution_count": 113,
      "outputs": [
        {
          "output_type": "stream",
          "text": [
            "/usr/local/lib/python3.6/dist-packages/jax/_src/lax/lax.py:6081: UserWarning: Explicitly requested dtype <class 'int'> requested in astype is not available, and will be truncated to dtype int32. To enable more dtypes, set the jax_enable_x64 configuration option or the JAX_ENABLE_X64 shell environment variable. See https://github.com/google/jax#current-gotchas for more.\n",
            "  warnings.warn(msg.format(dtype, fun_name , truncated_dtype))\n"
          ],
          "name": "stderr"
        }
      ]
    },
    {
      "cell_type": "code",
      "metadata": {
        "id": "aWcsErehOGs1",
        "outputId": "555e8723-3a74-400c-e802-9b54f091daf0",
        "colab": {
          "base_uri": "https://localhost:8080/"
        }
      },
      "source": [
        "errors"
      ],
      "execution_count": 119,
      "outputs": [
        {
          "output_type": "execute_result",
          "data": {
            "text/plain": [
              "DeviceArray(446.26562, dtype=float32)"
            ]
          },
          "metadata": {
            "tags": []
          },
          "execution_count": 119
        }
      ]
    },
    {
      "cell_type": "markdown",
      "metadata": {
        "id": "PoPIM2v7E7-O"
      },
      "source": [
        "### New Training"
      ]
    },
    {
      "cell_type": "code",
      "metadata": {
        "id": "Qn3IMcMO1pxI"
      },
      "source": [
        "for i in range(4): \n",
        "  for j in range(784): \n",
        "    "
      ],
      "execution_count": null,
      "outputs": []
    }
  ]
}