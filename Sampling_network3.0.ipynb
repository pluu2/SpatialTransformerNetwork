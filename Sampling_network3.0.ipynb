{
 "cells": [
  {
   "cell_type": "markdown",
   "metadata": {},
   "source": [
    "### Implementation 3.0 of STN: \n",
    "There are three components of the STN: \n",
    "1) The locazliation network , which takes the image and returns a affine matrix\n",
    "\n",
    "\n",
    "2)Parameterized sampling grid, which apparently just applies the affine transformation on each pixel. \n",
    "\n",
    "\n",
    "3) Differentiable image sampling--> Which is a function that defines where the kernel is applied. In some implenentations, this step seems like it's skipped. One implementation replaces the differentiable image sampling with a bilinear interpolation, which fills 'holes' in the image due to affine trasnformation with an image that is interpolated between adjacent points. \n",
    "\n",
    "\n",
    "I will try to implement without this differntaible image sampleing. \n"
   ]
  },
  {
   "cell_type": "code",
   "execution_count": 318,
   "metadata": {},
   "outputs": [],
   "source": [
    "import jax\n",
    "import jax.numpy as jnp\n",
    "import numpy as np\n",
    "from jax import grad,vmap ,jit\n",
    "from mlxtend.data import loadlocal_mnist\n",
    "import platform\n",
    "import matplotlib.pyplot as py"
   ]
  },
  {
   "cell_type": "markdown",
   "metadata": {},
   "source": [
    "#### Load Data \n",
    "$x^2$"
   ]
  },
  {
   "cell_type": "code",
   "execution_count": 125,
   "metadata": {},
   "outputs": [],
   "source": [
    "if not platform.system() == 'Windows':\n",
    "    mnist_train_data, mnist_train_labels = loadlocal_mnist(\n",
    "            images_path='./data/train-images.idx3-ubyte', \n",
    "            labels_path='./data/train-labels.idx1-ubyte')\n",
    "\n",
    "else:\n",
    "    mnist_train_data, mnist_train_labels = loadlocal_mnist(\n",
    "            images_path='./data/Cross-Stitch-Jax/train-images.idx3-ubyte', \n",
    "            labels_path='./data/Cross-Stitch-Jax/train-labels.idx1-ubyte')\n",
    "mnist_train_data=mnist_train_data.reshape(60000,28,28)\n",
    "mnist_train_data=mnist_train_data/255.0"
   ]
  },
  {
   "cell_type": "code",
   "execution_count": 63,
   "metadata": {},
   "outputs": [],
   "source": [
    "def create_grid (x1,x2,y1,y2):\n",
    "    featuremap_grid=[]\n",
    "    for y in range (y1,y2):\n",
    "        for x in range(x1,x2): \n",
    "            featuremap_grid.append((y,x))\n",
    "    return np.array(featuremap_grid)\n",
    "                        "
   ]
  },
  {
   "cell_type": "code",
   "execution_count": 355,
   "metadata": {},
   "outputs": [],
   "source": [
    "affine = jnp.array([[1.0,0],\n",
    "                   [0,1.0]])\n",
    "grid= create_grid(0,28,0,28) #[784,2]"
   ]
  },
  {
   "cell_type": "markdown",
   "metadata": {},
   "source": [
    "## Main functions"
   ]
  },
  {
   "cell_type": "code",
   "execution_count": 359,
   "metadata": {},
   "outputs": [],
   "source": [
    "#Function will take the transformed sampling grid and apply it to the image. \n",
    "def sampling_network (image,transformed_grid): \n",
    "    image=image.flatten()\n",
    "    new_image=np.zeros((28,28))\n",
    "    transformed_grid=transformed_grid.astype(int)\n",
    "    for i in range(784): #This is the slowest part! \n",
    "        new_image[transformed_grid[i,0]][transformed_grid[i,1]]= image[i]\n",
    "    return jnp.array(new_image)\n",
    "\n",
    "def localization_network(affine,initial_grid): \n",
    "    #localization_grid=np.tile(jnp.array(affine),(784,1,1))#[784,2,2]\n",
    "    localization_grid=affine\n",
    "    return jnp.dot(initial_grid,localization_grid.T)#optimally you want an output of 784,2\n",
    "#jit_localization_network = jit(localization_network)\n",
    "\n",
    "def MSE(image,target,affine,initial_grid): \n",
    "    new_grid=localization_network(affine,grid)\n",
    "    pred=sampling_network(image,new_grid)\n",
    "    pred=pred.flatten()\n",
    "    target=target.flatten()\n",
    "    \n",
    "    return (jnp.sum((target-pred))**2)/784\n",
    "\n",
    "gradient=grad(MSE,argnums=(2))"
   ]
  },
  {
   "cell_type": "code",
   "execution_count": 340,
   "metadata": {},
   "outputs": [
    {
     "ename": "TypeError",
     "evalue": "localization_network() takes 2 positional arguments but 3 were given",
     "output_type": "error",
     "traceback": [
      "\u001b[0;31m---------------------------------------------------------------------------\u001b[0m",
      "\u001b[0;31mTypeError\u001b[0m                                 Traceback (most recent call last)",
      "\u001b[0;32m<ipython-input-340-592af2cb2f88>\u001b[0m in \u001b[0;36m<module>\u001b[0;34m\u001b[0m\n\u001b[0;32m----> 1\u001b[0;31m \u001b[0mnew_grid\u001b[0m\u001b[0;34m=\u001b[0m\u001b[0mlocalization_network\u001b[0m\u001b[0;34m(\u001b[0m\u001b[0mmnist_train_data\u001b[0m\u001b[0;34m,\u001b[0m\u001b[0maffine\u001b[0m\u001b[0;34m,\u001b[0m\u001b[0mgrid\u001b[0m\u001b[0;34m)\u001b[0m \u001b[0;31m#returns [784,2]\u001b[0m\u001b[0;34m\u001b[0m\u001b[0;34m\u001b[0m\u001b[0m\n\u001b[0m",
      "\u001b[0;31mTypeError\u001b[0m: localization_network() takes 2 positional arguments but 3 were given"
     ]
    }
   ],
   "source": [
    "new_grid=localization_network(mnist_train_data,affine,grid) #returns [784,2]"
   ]
  },
  {
   "cell_type": "code",
   "execution_count": 353,
   "metadata": {},
   "outputs": [],
   "source": [
    "new_grid=localization_network(affine,grid)\n",
    "test_image=sampling_network(mnist_train_data[0],new_grid)\n",
    "\n"
   ]
  },
  {
   "cell_type": "code",
   "execution_count": 354,
   "metadata": {},
   "outputs": [
    {
     "data": {
      "text/plain": [
       "<matplotlib.image.AxesImage at 0x7f66e52a9be0>"
      ]
     },
     "execution_count": 354,
     "metadata": {},
     "output_type": "execute_result"
    },
    {
     "data": {
      "image/png": "[encoded data removed]",
      "text/plain": [
       "<Figure size 432x288 with 1 Axes>"
      ]
     },
     "metadata": {
      "needs_background": "light"
     },
     "output_type": "display_data"
    }
   ],
   "source": [
    "py.imshow(test_image)"
   ]
  },
  {
   "cell_type": "code",
   "execution_count": 349,
   "metadata": {},
   "outputs": [
    {
     "data": {
      "text/plain": [
       "<matplotlib.image.AxesImage at 0x7f66e5b79cd0>"
      ]
     },
     "execution_count": 349,
     "metadata": {},
     "output_type": "execute_result"
    },
    {
     "data": {
      "image/png": "[encoded data removed]",
      "text/plain": [
       "<Figure size 432x288 with 1 Axes>"
      ]
     },
     "metadata": {
      "needs_background": "light"
     },
     "output_type": "display_data"
    }
   ],
   "source": [
    "py.imshow(mnist_train_data[0])"
   ]
  },
  {
   "cell_type": "code",
   "execution_count": 328,
   "metadata": {},
   "outputs": [
    {
     "name": "stderr",
     "output_type": "stream",
     "text": [
      "/home/paul/AIprojects/jupytertest/.venv/lib/python3.8/site-packages/jax/_src/lax/lax.py:6126: UserWarning: Explicitly requested dtype <class 'int'> requested in astype is not available, and will be truncated to dtype int32. To enable more dtypes, set the jax_enable_x64 configuration option or the JAX_ENABLE_X64 shell environment variable. See https://github.com/google/jax#current-gotchas for more.\n",
      "  warnings.warn(msg.format(dtype, fun_name , truncated_dtype))\n"
     ]
    }
   ],
   "source": [
    "image1=mnist_train_data[0].flatten()\n",
    "test=MSE(image1,image1,affine,grid)\n"
   ]
  },
  {
   "cell_type": "code",
   "execution_count": 360,
   "metadata": {},
   "outputs": [],
   "source": [
    "da=gradient(test_image,mnist_train_data[0],affine,grid)"
   ]
  },
  {
   "cell_type": "code",
   "execution_count": 361,
   "metadata": {},
   "outputs": [
    {
     "data": {
      "text/plain": [
       "array([[0., 0.],\n",
       "       [0., 0.]], dtype=float32)"
      ]
     },
     "execution_count": 361,
     "metadata": {},
     "output_type": "execute_result"
    }
   ],
   "source": [
    "da"
   ]
  },
  {
   "cell_type": "code",
   "execution_count": 358,
   "metadata": {},
   "outputs": [
    {
     "data": {
      "text/plain": [
       "array([0., 0.], dtype=float32)"
      ]
     },
     "execution_count": 358,
     "metadata": {},
     "output_type": "execute_result"
    }
   ],
   "source": []
  },
  {
   "cell_type": "code",
   "execution_count": null,
   "metadata": {},
   "outputs": [],
   "source": []
  }
 ],
 "metadata": {
  "kernelspec": {
   "display_name": "Python 3",
   "language": "python",
   "name": "python3"
  },
  "language_info": {
   "codemirror_mode": {
    "name": "ipython",
    "version": 3
   },
   "file_extension": ".py",
   "mimetype": "text/x-python",
   "name": "python",
   "nbconvert_exporter": "python",
   "pygments_lexer": "ipython3",
   "version": "3.8.5"
  }
 },
 "nbformat": 4,
 "nbformat_minor": 4
}
