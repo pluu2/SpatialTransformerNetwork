{
 "cells": [
  {
   "cell_type": "markdown",
   "metadata": {},
   "source": [
    "### Implementation 3.0 of STN: \n",
    "There are three components of the STN: \n",
    "1) The locazliation network , which takes the image and returns a affine matrix\n",
    "\n",
    "\n",
    "2)Parameterized sampling grid, which apparently just applies the affine transformation on each pixel. \n",
    "\n",
    "\n",
    "3) Differentiable image sampling--> Which is a function that defines where the kernel is applied. In some implenentations, this step seems like it's skipped. One implementation replaces the differentiable image sampling with a bilinear interpolation, which fills 'holes' in the image due to affine trasnformation with an image that is interpolated between adjacent points. \n",
    "\n",
    "\n",
    "I will try to implement without this differntaible image sampleing. \n"
   ]
  },
  {
   "cell_type": "code",
   "execution_count": 15,
   "metadata": {},
   "outputs": [],
   "source": [
    "import jax\n",
    "import jax.numpy as jnp\n",
    "import numpy as np\n",
    "from jax import grad,vmap \n",
    "from mlxtend.data import loadlocal_mnist\n",
    "import platform\n",
    "import matplotlib.pyplot as py"
   ]
  },
  {
   "cell_type": "markdown",
   "metadata": {},
   "source": [
    "#### Load Data"
   ]
  },
  {
   "cell_type": "code",
   "execution_count": 10,
   "metadata": {},
   "outputs": [],
   "source": [
    "if not platform.system() == 'Windows':\n",
    "    mnist_train_data, mnist_train_labels = loadlocal_mnist(\n",
    "            images_path='./data/train-images.idx3-ubyte', \n",
    "            labels_path='./data/train-labels.idx1-ubyte')\n",
    "\n",
    "else:\n",
    "    mnist_train_data, mnist_train_labels = loadlocal_mnist(\n",
    "            images_path='./data/Cross-Stitch-Jax/train-images.idx3-ubyte', \n",
    "            labels_path='./data/Cross-Stitch-Jax/train-labels.idx1-ubyte')\n",
    "mnist_train_data=mnist_train_data/255.0"
   ]
  },
  {
   "cell_type": "code",
   "execution_count": 18,
   "metadata": {},
   "outputs": [],
   "source": [
    "affine = [[1,0\n",
    "          0,1]]\n",
    "\n"
   ]
  },
  {
   "cell_type": "code",
   "execution_count": null,
   "metadata": {},
   "outputs": [],
   "source": [
    "#the function will create a sampling_grid, which will be used to but manipulatd by the \n",
    "#affine matrix. This should be done on the fly, which is basically a [784,2,2] matrix for now \n",
    "def localization_network (image,affine): \n",
    "    \n",
    "    "
   ]
  },
  {
   "cell_type": "code",
   "execution_count": 29,
   "metadata": {},
   "outputs": [],
   "source": [
    "def affine_grid_generator(image,affine): \n",
    "    affine_grid = np.zeros((784,2,2)) \n",
    "    featuremap_grid=[np.arange(-14,14,1),np.arange(-14,14,1)]"
   ]
  },
  {
   "cell_type": "code",
   "execution_count": 65,
   "metadata": {},
   "outputs": [],
   "source": [
    "def create_grid (x1,x2,y1,y2):\n",
    "    featuremap_grid=[]\n",
    "    for y in range (y1,y2):\n",
    "        for x in range(x1,x2): \n",
    "            featuremap_grid.append([y,x])\n",
    "    return np.array(featuremap_grid)\n",
    "                        "
   ]
  },
  {
   "cell_type": "code",
   "execution_count": 66,
   "metadata": {},
   "outputs": [
    {
     "data": {
      "text/plain": [
       "array([[-14, -14],\n",
       "       [-14, -13],\n",
       "       [-14, -12],\n",
       "       ...,\n",
       "       [ 13,  11],\n",
       "       [ 13,  12],\n",
       "       [ 13,  13]])"
      ]
     },
     "execution_count": 66,
     "metadata": {},
     "output_type": "execute_result"
    }
   ],
   "source": []
  },
  {
   "cell_type": "code",
   "execution_count": null,
   "metadata": {},
   "outputs": [],
   "source": []
  }
 ],
 "metadata": {
  "kernelspec": {
   "display_name": "Python 3",
   "language": "python",
   "name": "python3"
  },
  "language_info": {
   "codemirror_mode": {
    "name": "ipython",
    "version": 3
   },
   "file_extension": ".py",
   "mimetype": "text/x-python",
   "name": "python",
   "nbconvert_exporter": "python",
   "pygments_lexer": "ipython3",
   "version": "3.8.5"
  }
 },
 "nbformat": 4,
 "nbformat_minor": 4
}
