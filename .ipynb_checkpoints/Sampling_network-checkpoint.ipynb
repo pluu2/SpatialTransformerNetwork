{
 "cells": [
  {
   "cell_type": "code",
   "execution_count": 2,
   "metadata": {
    "id": "Otndnc0xU_-C"
   },
   "outputs": [],
   "source": [
    "import jax\n",
    "import jax.numpy as jnp\n",
    "import numpy as np\n",
    "from jax import grad,jit,vmap\n",
    "#import tensorflow as tf\n",
    "import matplotlib.pyplot as py\n",
    "#tf.config.experimental.set_visible_devices([], \"GPU\")"
   ]
  },
  {
   "cell_type": "markdown",
   "metadata": {
    "id": "THxpKjekyXzn"
   },
   "source": [
    "mnist data"
   ]
  },
  {
   "cell_type": "code",
   "execution_count": 3,
   "metadata": {
    "colab": {
     "base_uri": "https://localhost:8080/"
    },
    "id": "aXlwYcrzyXdj",
    "outputId": "bcd26f71-d38b-4a11-811f-3e7f20bd5970"
   },
   "outputs": [],
   "source": [
    "#(train_data,_),(_,_)=tf.keras.datasets.mnist.load_data()"
   ]
  },
  {
   "cell_type": "markdown",
   "metadata": {
    "id": "D-OHfTZbXo2R"
   },
   "source": [
    "Data"
   ]
  },
  {
   "cell_type": "code",
   "execution_count": 4,
   "metadata": {
    "id": "E3HzJJ8FVPay"
   },
   "outputs": [],
   "source": [
    "#consider a function that has to decide to darken only lit pixels down by 0.5 units only if they are a value >0.9 \n",
    "\n",
    "image1= np.ones((28,28)) *0.5\n",
    "\n",
    "for i in range(2,22): \n",
    "  for j in range (2,22): \n",
    "    image1[i][j]=1"
   ]
  },
  {
   "cell_type": "code",
   "execution_count": 5,
   "metadata": {
    "colab": {
     "base_uri": "https://localhost:8080/",
     "height": 282
    },
    "id": "qYoWDgdaZGmS",
    "outputId": "c0abd3d8-7eb2-4dac-8ee3-0976e08d2cb2"
   },
   "outputs": [
    {
     "data": {
      "text/plain": [
       "<matplotlib.image.AxesImage at 0x7f19fe1a0850>"
      ]
     },
     "execution_count": 5,
     "metadata": {},
     "output_type": "execute_result"
    },
    {
     "data": {
      "image/png": "[encoded data removed]",
      "text/plain": [
       "<Figure size 432x288 with 1 Axes>"
      ]
     },
     "metadata": {
      "needs_background": "light"
     },
     "output_type": "display_data"
    }
   ],
   "source": [
    "py.imshow(image1)"
   ]
  },
  {
   "cell_type": "markdown",
   "metadata": {
    "id": "toAVGS2HXqZ4"
   },
   "source": [
    "Target"
   ]
  },
  {
   "cell_type": "code",
   "execution_count": 6,
   "metadata": {
    "id": "WfzKQfovl_NP"
   },
   "outputs": [],
   "source": [
    "target= np.zeros((28,28))\n",
    "for i in range(2,22): \n",
    "  for j in range (2,22): \n",
    "    target[i][j]=10"
   ]
  },
  {
   "cell_type": "code",
   "execution_count": 7,
   "metadata": {
    "colab": {
     "base_uri": "https://localhost:8080/",
     "height": 282
    },
    "id": "HS5Ut910mEcC",
    "outputId": "d2130d8c-0e7a-43aa-cbb8-ce42bdbbf294"
   },
   "outputs": [
    {
     "data": {
      "text/plain": [
       "<matplotlib.image.AxesImage at 0x7f19fe10b5e0>"
      ]
     },
     "execution_count": 7,
     "metadata": {},
     "output_type": "execute_result"
    },
    {
     "data": {
      "image/png": "[encoded data removed]",
      "text/plain": [
       "<Figure size 432x288 with 1 Axes>"
      ]
     },
     "metadata": {
      "needs_background": "light"
     },
     "output_type": "display_data"
    }
   ],
   "source": [
    "py.imshow(target)"
   ]
  },
  {
   "cell_type": "markdown",
   "metadata": {
    "id": "FgBiZl3WXsYg"
   },
   "source": [
    "Reshaping for using in NN"
   ]
  },
  {
   "cell_type": "code",
   "execution_count": 8,
   "metadata": {
    "id": "Gzxt8wmcZLwU"
   },
   "outputs": [],
   "source": [
    "feature=image1.reshape(784,1)\n",
    "target=target.reshape(784,1)\n",
    "kernel = 10"
   ]
  },
  {
   "cell_type": "code",
   "execution_count": 9,
   "metadata": {
    "id": "5jSD19lZZyi5"
   },
   "outputs": [],
   "source": [
    "def forward(pixels,parameters,bias):  #parameters will be 1,1 \n",
    "  layer1=jnp.dot(pixels,parameters[0].T) + bias[0]  #(32,1) \n",
    "  layer1=jax.nn.relu(layer1) \n",
    "  layer2=jnp.dot(layer1,parameters[1].T)+bias[1]  #(1,32)\n",
    "  layer2=jax.nn.sigmoid(layer2) \n",
    "  output=kernel * pixels * layer2\n",
    "\n",
    "  return output\n",
    "\n",
    "vmap_forward= vmap(forward, in_axes =(0,None,None))\n",
    "\n",
    "def MSE_error(pixels_,target,parameters,bias): \n",
    "  pred = forward(pixels_,parameters,bias) \n",
    "  error = 0.5*(target-pred)**2 #sum over image\n",
    "  return error[0]\n",
    "\n",
    "gradient=grad(MSE_error, argnums=(2,3))\n",
    "\n",
    "def update_params(dparams,dbias,parameters,bias,lr=0.001): \n",
    "  for i in range(len(dparams)):\n",
    "    parameters[i]=parameters[i] - (lr*dparams[i])\n",
    "    bias[i] = bias[i] - (lr*dbias[i]) \n",
    "  return [parameters,bias]"
   ]
  },
  {
   "cell_type": "markdown",
   "metadata": {
    "id": "1LqnpEKdl5BJ"
   },
   "source": [
    "Parameters"
   ]
  },
  {
   "cell_type": "code",
   "execution_count": 21,
   "metadata": {
    "id": "xZ4j15ktZ3id"
   },
   "outputs": [],
   "source": [
    "np.random.seed(1005)\n",
    "parameters=[]\n",
    "bias=[]\n",
    "parameters.append(np.random.randn(5,1)) \n",
    "parameters.append(np.random.randn(1,5))\n",
    "bias.append(np.random.randn(5))\n",
    "bias.append(np.random.randn(1))"
   ]
  },
  {
   "cell_type": "code",
   "execution_count": 25,
   "metadata": {
    "colab": {
     "base_uri": "https://localhost:8080/"
    },
    "id": "SSZXP9oJc4A9",
    "outputId": "bee182ff-a0ce-4df9-cabb-598198189fc2"
   },
   "outputs": [
    {
     "name": "stdout",
     "output_type": "stream",
     "text": [
      "12.496119\n",
      "12.492041\n",
      "12.499933\n",
      "12.499928\n",
      "12.499919\n"
     ]
    }
   ],
   "source": [
    "\n",
    "for epoch in range(5): \n",
    "  for sample in range(784): \n",
    "    dparam,dbias =jit(gradient)(feature[sample],target[sample],parameters,bias)\n",
    "    parameters,bias=jit(update_params)(dparam,dbias,parameters,bias,lr=0.1)\n",
    "  print(MSE_error(feature[23],target[23],parameters,bias))"
   ]
  },
  {
   "cell_type": "code",
   "execution_count": 12,
   "metadata": {
    "id": "StWFtDJIdL7d"
   },
   "outputs": [],
   "source": [
    "final=vmap_forward(feature,parameters,bias)"
   ]
  },
  {
   "cell_type": "code",
   "execution_count": 13,
   "metadata": {
    "colab": {
     "base_uri": "https://localhost:8080/",
     "height": 282
    },
    "id": "ZccPR42-fhjK",
    "outputId": "faffac67-061f-4a01-bc9f-4a0534b3132c"
   },
   "outputs": [
    {
     "data": {
      "text/plain": [
       "<matplotlib.image.AxesImage at 0x7f19fe053df0>"
      ]
     },
     "execution_count": 13,
     "metadata": {},
     "output_type": "execute_result"
    },
    {
     "data": {
      "image/png": "[encoded data removed]",
      "text/plain": [
       "<Figure size 432x288 with 1 Axes>"
      ]
     },
     "metadata": {
      "needs_background": "light"
     },
     "output_type": "display_data"
    }
   ],
   "source": [
    "py.imshow(final.reshape(28,28))"
   ]
  },
  {
   "cell_type": "code",
   "execution_count": 14,
   "metadata": {
    "colab": {
     "base_uri": "https://localhost:8080/",
     "height": 282
    },
    "id": "cH4rh0IkgpEq",
    "outputId": "faa0f653-095c-4fd3-9268-a9583a2133cd"
   },
   "outputs": [
    {
     "data": {
      "text/plain": [
       "<matplotlib.image.AxesImage at 0x7f1a169f0ee0>"
      ]
     },
     "execution_count": 14,
     "metadata": {},
     "output_type": "execute_result"
    },
    {
     "data": {
      "image/png": "[encoded data removed]",
      "text/plain": [
       "<Figure size 432x288 with 1 Axes>"
      ]
     },
     "metadata": {
      "needs_background": "light"
     },
     "output_type": "display_data"
    }
   ],
   "source": [
    "py.imshow(target.reshape(28,28))\n"
   ]
  },
  {
   "cell_type": "code",
   "execution_count": 15,
   "metadata": {
    "id": "DZUyf03kgrYd"
   },
   "outputs": [],
   "source": [
    "data=[]\n",
    "for i in range(10): \n",
    "  data.append(forward (i/10,parameters,bias)[0])\n",
    "\n",
    "data=np.array(data)"
   ]
  },
  {
   "cell_type": "code",
   "execution_count": 16,
   "metadata": {
    "colab": {
     "base_uri": "https://localhost:8080/",
     "height": 282
    },
    "id": "TouZvAu3xS6Q",
    "outputId": "07b9fcb3-b5d8-4cb7-e258-bcc3185805d8"
   },
   "outputs": [
    {
     "data": {
      "text/plain": [
       "[<matplotlib.lines.Line2D at 0x7f1a1696e430>]"
      ]
     },
     "execution_count": 16,
     "metadata": {},
     "output_type": "execute_result"
    },
    {
     "data": {
      "image/png": "[encoded data removed]",
      "text/plain": [
       "<Figure size 432x288 with 1 Axes>"
      ]
     },
     "metadata": {
      "needs_background": "light"
     },
     "output_type": "display_data"
    }
   ],
   "source": [
    "py.plot(data.reshape(10))"
   ]
  },
  {
   "cell_type": "code",
   "execution_count": 17,
   "metadata": {
    "colab": {
     "base_uri": "https://localhost:8080/",
     "height": 282
    },
    "id": "-kxnBJB5xkG9",
    "outputId": "0e3c9d55-6c02-4b97-e96c-6d932145a21f"
   },
   "outputs": [
    {
     "ename": "NameError",
     "evalue": "name 'train_data' is not defined",
     "output_type": "error",
     "traceback": [
      "\u001b[0;31m---------------------------------------------------------------------------\u001b[0m",
      "\u001b[0;31mNameError\u001b[0m                                 Traceback (most recent call last)",
      "\u001b[0;32m<ipython-input-17-1cbdf1b547f9>\u001b[0m in \u001b[0;36m<module>\u001b[0;34m\u001b[0m\n\u001b[0;32m----> 1\u001b[0;31m \u001b[0mmodified\u001b[0m\u001b[0;34m=\u001b[0m\u001b[0mforward\u001b[0m\u001b[0;34m(\u001b[0m\u001b[0mtrain_data\u001b[0m\u001b[0;34m[\u001b[0m\u001b[0;36m5\u001b[0m\u001b[0;34m]\u001b[0m\u001b[0;34m.\u001b[0m\u001b[0mreshape\u001b[0m\u001b[0;34m(\u001b[0m\u001b[0;36m784\u001b[0m\u001b[0;34m,\u001b[0m\u001b[0;36m1\u001b[0m\u001b[0;34m)\u001b[0m\u001b[0;34m/\u001b[0m\u001b[0;36m255.0\u001b[0m\u001b[0;34m,\u001b[0m\u001b[0mparameters\u001b[0m\u001b[0;34m,\u001b[0m\u001b[0mbias\u001b[0m\u001b[0;34m)\u001b[0m\u001b[0;34m\u001b[0m\u001b[0;34m\u001b[0m\u001b[0m\n\u001b[0m\u001b[1;32m      2\u001b[0m \u001b[0mpy\u001b[0m\u001b[0;34m.\u001b[0m\u001b[0mimshow\u001b[0m\u001b[0;34m(\u001b[0m\u001b[0mmodified\u001b[0m\u001b[0;34m.\u001b[0m\u001b[0mreshape\u001b[0m\u001b[0;34m(\u001b[0m\u001b[0;36m28\u001b[0m\u001b[0;34m,\u001b[0m\u001b[0;36m28\u001b[0m\u001b[0;34m)\u001b[0m\u001b[0;34m)\u001b[0m\u001b[0;34m\u001b[0m\u001b[0;34m\u001b[0m\u001b[0m\n",
      "\u001b[0;31mNameError\u001b[0m: name 'train_data' is not defined"
     ]
    }
   ],
   "source": [
    "#modified=forward(train_data[5].reshape(784,1)/255.0,parameters,bias)\n",
    "#py.imshow(modified.reshape(28,28))"
   ]
  },
  {
   "cell_type": "code",
   "execution_count": 18,
   "metadata": {
    "colab": {
     "base_uri": "https://localhost:8080/",
     "height": 282
    },
    "id": "8yIh3TDu1Mz1",
    "outputId": "2ee594d5-6837-477e-f9b8-21fccc19f85a"
   },
   "outputs": [],
   "source": [
    "#py.imshow(train_data[5].reshape(28,28))"
   ]
  },
  {
   "cell_type": "code",
   "execution_count": null,
   "metadata": {
    "id": "MaMjdgxWCtCD"
   },
   "outputs": [],
   "source": []
  },
  {
   "cell_type": "code",
   "execution_count": null,
   "metadata": {
    "id": "5_UDcfU4DM8G"
   },
   "outputs": [],
   "source": []
  }
 ],
 "metadata": {
  "colab": {
   "name": "Sampling network.ipynb",
   "provenance": []
  },
  "kernelspec": {
   "display_name": "Python 3",
   "language": "python",
   "name": "python3"
  },
  "language_info": {
   "codemirror_mode": {
    "name": "ipython",
    "version": 3
   },
   "file_extension": ".py",
   "mimetype": "text/x-python",
   "name": "python",
   "nbconvert_exporter": "python",
   "pygments_lexer": "ipython3",
   "version": "3.8.5"
  }
 },
 "nbformat": 4,
 "nbformat_minor": 1
}
